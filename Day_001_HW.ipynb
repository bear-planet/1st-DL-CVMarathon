{
 "cells": [
  {
   "cell_type": "markdown",
   "metadata": {},
   "source": [
    "## 練習時間\n",
    "#### 請寫一個函式用來計算 Mean Square Error\n",
    "$ MSE = \\frac{1}{n}\\sum_{i=1}^{n}{(Y_i - \\hat{Y}_i)^2} $\n",
    "\n",
    "### Hint: [如何取平方](https://googoodesign.gitbooks.io/-ezpython/unit-1.html)"
   ]
  },
  {
   "cell_type": "markdown",
   "metadata": {},
   "source": [
    "# [作業目標]\n",
    "- 仿造範例的MAE函數, 自己寫一個MSE函數(參考上面公式)"
   ]
  },
  {
   "cell_type": "markdown",
   "metadata": {},
   "source": [
    "# [作業重點]\n",
    "- 注意程式的縮排\n",
    "- 是否能將數學公式, 轉換為 Python 的函式組合? (In[2], Out[2])"
   ]
  },
  {
   "cell_type": "code",
   "execution_count": 1,
   "metadata": {},
   "outputs": [],
   "source": [
    "# 載入基礎套件與代稱\n",
    "import numpy as np\n",
    "import matplotlib.pyplot as plt"
   ]
  },
  {
   "cell_type": "code",
   "execution_count": 6,
   "metadata": {},
   "outputs": [],
   "source": [
    "def mean_absolute_error(y, yp):\n",
    "    \"\"\"\n",
    "    計算 MAE\n",
    "    Args:\n",
    "        - y: 實際值\n",
    "        - yp: 預測值\n",
    "    Return:\n",
    "        - mae: MAE\n",
    "    \"\"\"\n",
    "    mae = MAE = sum(abs(y - yp)) / len(y)\n",
    "    return mae\n",
    "\n",
    "# 定義 mean_squared_error 這個函數, 計算並傳回 MSE\n",
    "def mean_squared_error(y, yp):\n",
    "    \"\"\"\n",
    "    請完成這個 Function 後往下執行\n",
    "    \n",
    "    計算 MSE\n",
    "    Args:\n",
    "        - y: 實際值\n",
    "        - yp: 預測值\n",
    "    Return:\n",
    "        - mse: MSE\n",
    "    \"\"\"\n",
    "    mse = sum((y-yp)**2) / len(y)\n",
    "    return mse"
   ]
  },
  {
   "cell_type": "code",
   "execution_count": 7,
   "metadata": {},
   "outputs": [
    {
     "data": {
      "image/png": "[encoded data removed]",
      "text/plain": [
       "<Figure size 432x288 with 1 Axes>"
      ]
     },
     "metadata": {
      "needs_background": "light"
     },
     "output_type": "display_data"
    }
   ],
   "source": [
    "# 與範例相同, 不另外解說\n",
    "w = 3\n",
    "b = 0.5\n",
    "x_lin = np.linspace(0, 100, 101)\n",
    "y = (x_lin + np.random.randn(101) * 5) * w + b\n",
    "\n",
    "plt.plot(x_lin, y, 'b.', label = 'data points')\n",
    "plt.title(\"Assume we have data points\")\n",
    "plt.legend(loc = 2)\n",
    "plt.show()"
   ]
  },
  {
   "cell_type": "code",
   "execution_count": 8,
   "metadata": {},
   "outputs": [
    {
     "data": {
      "image/png": "[encoded data removed]",
      "text/plain": [
       "<Figure size 432x288 with 1 Axes>"
      ]
     },
     "metadata": {
      "needs_background": "light"
     },
     "output_type": "display_data"
    }
   ],
   "source": [
    "# 與範例相同, 不另外解說\n",
    "y_hat = x_lin * w + b\n",
    "plt.plot(x_lin, y, 'b.', label = 'data')\n",
    "plt.plot(x_lin, y_hat, 'r-', label = 'prediction')\n",
    "plt.title(\"Assume we have data points (And the prediction)\")\n",
    "plt.legend(loc = 2)\n",
    "plt.show()"
   ]
  },
  {
   "cell_type": "code",
   "execution_count": 9,
   "metadata": {},
   "outputs": [
    {
     "name": "stdout",
     "output_type": "stream",
     "text": [
      "The Mean squared error is 238.578\n",
      "The Mean absolute error is 12.091\n"
     ]
    }
   ],
   "source": [
    "# 執行 Function, 確認有沒有正常執行\n",
    "MSE = mean_squared_error(y, y_hat)\n",
    "MAE = mean_absolute_error(y, y_hat)\n",
    "print(\"The Mean squared error is %.3f\" % (MSE))\n",
    "print(\"The Mean absolute error is %.3f\" % (MAE))"
   ]
  },
  {
   "cell_type": "markdown",
   "metadata": {},
   "source": [
    "# [作業2]\n",
    "\n",
    "請上 Kaggle, 在 Competitions 或 Dataset 中找一組競賽或資料並寫下：\n",
    "\n",
    "1. 你選的這組資料為何重要\n",
    "\n",
    "2. 資料從何而來 (tips: 譬如提供者是誰、以什麼方式蒐集)\n",
    "\n",
    "3. 蒐集而來的資料型態為何\n",
    "\n",
    "4. 這組資料想解決的問題如何評估\n",
    "\n",
    "## Answer:\n",
    "#### 競賽題目: [Cassava Leaf Disease Classification](https://www.kaggle.com/c/cassava-leaf-disease-classification)\n",
    "#### 資料集: 21,367張带有標籤的木薯葉圖片數據集。\n",
    "\n",
    "#### 1. 你選的這組資料為何重要  <br>\n",
    "    木薯是在非洲烏干達等國家的重要糧食作物，但是病毒性疾病是木薯產量低下的主要原因，若借助這組資料進行分析，達到可以識別出木薯的常見疾病，並對其進行治療，進而提高木薯的生產量，減緩地方人民的糧食問題，為這些非洲國家做出貢獻。\n",
    "\n",
    "#### 2. 資料從何而來 (tips: 譬如提供者是誰、以什麼方式蒐集)  <br>\n",
    "    數據集中的大多數木薯葉圖片多為從烏干達農民那裏獲取的，並且由國家作物資源研究所(NaCRRI)的專家與麥克雷雷大學的AI實驗室專家合作進行標註(標籤)。\n",
    "\n",
    "#### 3. 蒐集而來的資料型態為何  <br>\n",
    "    (1)非結構性資料 : 木薯葉圖片  <br>\n",
    "    (2)結構性資料 : csv檔案中欄位: image_id-> 圖像文件名 ; label-> 該疾病的ID\n",
    "\n",
    "#### 4. 這組資料想解決的問題如何評估  <br>\n",
    "    將每個木薯葉圖片分類為四或五個疾病類別，辨識出健康的葉子，準確度愈高愈好。\n",
    "\n",
    "# [作業3]\n",
    "\n",
    "想像你經營一個自由載客車隊，你希望能透過數據分析以提升業績，請你思考並描述你如何規劃整體的分析/解決方案：\n",
    "\n",
    "1. 核心問題為何 (tips：如何定義 「提升業績 & 你的假設」)\n",
    "\n",
    "2. 資料從何而來 (tips：哪些資料可能會對你想問的問題產生影響 & 資料如何蒐集)\n",
    "\n",
    "3. 蒐集而來的資料型態為何\n",
    "\n",
    "4. 你要回答的問題，其如何評估 (tips：你的假設如何驗證)\n",
    "\n",
    "## Answer:\n",
    "\n",
    "#### 1. 核心問題為何 (tips：如何定義 「提升業績 & 你的假設」) <br>\n",
    "    假設: 以台灣國內為例,業績提升=載客量的提升\n",
    "    1. 各個都市的車站(火車、高鐵站)的旅客數愈多，可招攬更多生意  \n",
    "    2. 每當有大型活動或在著名旅遊景點，於該地附近配置車輛可提升載客量\n",
    "\n",
    "#### 2. 資料從何而來 (tips：哪些資料可能會對你想問的問題產生影響 & 資料如何蒐集)  <br>\n",
    "    假設1: (1) 需要台鐵、高鐵的歷年旅客乘載紀錄，紀錄中包含每月、每周或每日各車站的旅客(乘客)數量\n",
    "           (2) 需要本車隊歷年於各車站載客量之紀錄，包含每月、每周或每日的載客量\n",
    "           \n",
    "    假設2: (1) 需要國內各大旅遊景點的熱潮期與冷門期時間段，以及各景點的每月、每周、每日遊客數量\n",
    "           (2) 國內大型活動若有歷史紀錄，需要其熱門程度、參與人數等\n",
    "           (3) 本車隊歷年於各活動載客量之紀錄，包含每月、每周或每日的載客量\n",
    "\n",
    "#### 3. 蒐集而來的資料型態為何  <br>\n",
    "    收集到的資料應多為結構性資料，例如各車站每月旅客數量、日期、車隊載客量等\n",
    "\n",
    "#### 4. 你要回答的問題，其如何評估 (tips：你的假設如何驗證)  <br>\n",
    "    假設1: 分析車站旅客數與車隊載客量之間的關係，若車站旅客數提升，隨之車隊載客量提升，則假設成立，於該地分配更多載客車輛可提升車隊業績\n",
    "    假設2: 分析大型活動與旅遊景點與車隊載客量之間的關係，若遊客數提升，隨之車隊載客量提升，則假設成立，於該場所分配更多車輛可提升業績"
   ]
  },
  {
   "cell_type": "code",
   "execution_count": null,
   "metadata": {},
   "outputs": [],
   "source": []
  }
 ],
 "metadata": {
  "anaconda-cloud": {},
  "kernelspec": {
   "display_name": "Python 3",
   "language": "python",
   "name": "python3"
  },
  "language_info": {
   "codemirror_mode": {
    "name": "ipython",
    "version": 3
   },
   "file_extension": ".py",
   "mimetype": "text/x-python",
   "name": "python",
   "nbconvert_exporter": "python",
   "pygments_lexer": "ipython3",
   "version": "3.7.9"
  }
 },
 "nbformat": 4,
 "nbformat_minor": 1
}
