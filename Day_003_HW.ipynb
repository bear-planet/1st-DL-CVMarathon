{
 "cells": [
  {
   "cell_type": "markdown",
   "metadata": {},
   "source": [
    "## [作業目標]\n",
    "持續接觸有關機器學習的相關專案與最新技術"
   ]
  },
  {
   "cell_type": "markdown",
   "metadata": {},
   "source": [
    "## [作業重點]\n",
    "透過觀察頂尖公司的機器學習文章，來了解各公司是怎麼應用機器學習在實際的專案上"
   ]
  },
  {
   "cell_type": "markdown",
   "metadata": {},
   "source": [
    "## [作業]\n",
    "今天的作業希望大家能夠看看全球機器學習巨頭們在做的機器學習專案。以 google 為例，下圖是 Google 內部專案使用機器學習的數量，隨著時間進展，現在早已超過 2000 個專案在使用機器學習。"
   ]
  },
  {
   "cell_type": "markdown",
   "metadata": {},
   "source": [
    "![image](https://cdn-images-1.medium.com/max/800/1*U_L8qI8RmYS-MOBrYvXhSA.png)"
   ]
  },
  {
   "cell_type": "markdown",
   "metadata": {},
   "source": [
    "底下幫同學整理幾間知名企業的 blog 或機器學習網站 (自行搜尋也可)，這些網站都會整理最新的機器學習專案或者是技術文章，請挑選一篇文章閱讀並試著回答\n",
    "1. 專案的目標？ (要解決什麼問題）\n",
    "2. 使用的技術是？ (只需知道名稱即可，例如：使用 CNN 卷積神經網路做影像分類)\n",
    "3. 資料來源？ "
   ]
  },
  {
   "cell_type": "markdown",
   "metadata": {},
   "source": [
    "- [Google AI blog](https://ai.googleblog.com/)\n",
    "- [Facebook Research blog](https://research.fb.com/blog/)\n",
    "- [Apple machine learning journal](https://machinelearning.apple.com/)\n",
    "- [機器之心](https://www.jiqizhixin.com/)\n",
    "- [雷鋒網](http://www.leiphone.com/category/ai)"
   ]
  },
  {
   "cell_type": "markdown",
   "metadata": {},
   "source": [
    "### Answer :\n",
    " 文章標題 : [谷歌新研究：让失语者在视频会议中用手语自然交流！](https://www.leiphone.com/news/202010/jrtHn5IrDebeHoCY.html)\n",
    " \n",
    "#### 專案的目標？ (要解決什麼問題）\n",
    "    為幫助失語者、手語使用者，能夠輕鬆有效地於視訊會議中進行溝通，\n",
    "    解決在視訊會議中系統實施即時手語檢測之問題。\n",
    "    \n",
    "#### 使用的技術是？ (只需知道名稱即可，例如：使用 CNN 卷積神經網路做影像分類)\n",
    "      Google的研究團隊提出一個即時手語檢測模型，由於手語涉及用戶的身體與手兩個部分，他們先運行了PoseNet(人體姿態估算模型)，可提取用戶身上的眼睛、鼻子、肩膀等關鍵特徵(landmarks)。\n",
    "    \n",
    "      接著，為了測試方法的有效性，研究團隊採用了德語手語資料庫(GDS)，該資料庫包含人體手勢的長影片(包含跨度標註)。\n",
    "    \n",
    "      研究團隊使用了LSTM(長短期記憶網路)架構進行手語影像的記憶，該模型可達到91.5%的準確度，每一帧的處理時間約為3.5毫秒。\n",
    "#### 資料來源？\n",
    "    雷鋒網, 2020-10-04, 谷歌新研究：让失语者在视频会议中用手语自然交流！"
   ]
  },
  {
   "cell_type": "code",
   "execution_count": null,
   "metadata": {},
   "outputs": [],
   "source": []
  }
 ],
 "metadata": {
  "kernelspec": {
   "display_name": "Python 3",
   "language": "python",
   "name": "python3"
  },
  "language_info": {
   "codemirror_mode": {
    "name": "ipython",
    "version": 3
   },
   "file_extension": ".py",
   "mimetype": "text/x-python",
   "name": "python",
   "nbconvert_exporter": "python",
   "pygments_lexer": "ipython3",
   "version": "3.7.9"
  }
 },
 "nbformat": 4,
 "nbformat_minor": 2
}
